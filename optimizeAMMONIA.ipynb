{
 "cells": [
  {
   "cell_type": "markdown",
   "id": "ed299471-3d57-42bc-86c6-21b9707b79d8",
   "metadata": {},
   "source": [
    "# Optimize Clouds Manually\n",
    "- This data adds the PSG Titan-like haze with an abundance of 4 ppm and particle size =0.6\n",
    "- The goal is to include this and determine a better fit for the NH3 and Ammonia cloud layers"
   ]
  },
  {
   "cell_type": "code",
   "execution_count": 1,
   "id": "9bd6c9d9-c066-4693-92eb-79b7692d9498",
   "metadata": {
    "tags": []
   },
   "outputs": [
    {
     "ename": "ModuleNotFoundError",
     "evalue": "No module named 'optimize_ammonia'",
     "output_type": "error",
     "traceback": [
      "\u001b[0;31m---------------------------------------------------------------------------\u001b[0m",
      "\u001b[0;31mModuleNotFoundError\u001b[0m                       Traceback (most recent call last)",
      "Cell \u001b[0;32mIn[1], line 1\u001b[0m\n\u001b[0;32m----> 1\u001b[0m \u001b[38;5;28;01mimport\u001b[39;00m \u001b[38;5;21;01moptimize_ammonia\u001b[39;00m \u001b[38;5;28;01mas\u001b[39;00m \u001b[38;5;21;01mcloud\u001b[39;00m\n",
      "\u001b[0;31mModuleNotFoundError\u001b[0m: No module named 'optimize_ammonia'"
     ]
    }
   ],
   "source": [
    "import optimize_ammonia as cloud"
   ]
  },
  {
   "cell_type": "code",
   "execution_count": null,
   "id": "67948ac0-7c80-4628-8783-bf25b3d8801d",
   "metadata": {},
   "outputs": [],
   "source": []
  },
  {
   "cell_type": "code",
   "execution_count": null,
   "id": "0aadb5d1-532c-49a2-a013-c88005595452",
   "metadata": {},
   "outputs": [],
   "source": [
    "# BRING NH3 TO LAYER 12 MULT BY 4"
   ]
  }
 ],
 "metadata": {
  "kernelspec": {
   "display_name": "Python 3 (ipykernel)",
   "language": "python",
   "name": "python3"
  },
  "language_info": {
   "codemirror_mode": {
    "name": "ipython",
    "version": 3
   },
   "file_extension": ".py",
   "mimetype": "text/x-python",
   "name": "python",
   "nbconvert_exporter": "python",
   "pygments_lexer": "ipython3",
   "version": "3.11.4"
  }
 },
 "nbformat": 4,
 "nbformat_minor": 5
}
